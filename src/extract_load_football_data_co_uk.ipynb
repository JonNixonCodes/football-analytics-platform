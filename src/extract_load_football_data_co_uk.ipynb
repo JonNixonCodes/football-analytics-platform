{
 "nbformat": 4,
 "nbformat_minor": 2,
 "metadata": {
  "language_info": {
   "name": "python",
   "codemirror_mode": {
    "name": "ipython",
    "version": 3
   },
   "version": "3.9.2-final"
  },
  "orig_nbformat": 2,
  "file_extension": ".py",
  "mimetype": "text/x-python",
  "name": "python",
  "npconvert_exporter": "python",
  "pygments_lexer": "ipython3",
  "version": 3,
  "kernelspec": {
   "name": "python3",
   "display_name": "Python 3 (ipykernel)"
  }
 },
 "cells": [
  {
   "cell_type": "markdown",
   "metadata": {},
   "source": [
    "# Extract and Load Football-Data.co.uk\n",
    "Download CSV from www.football-data.co.uk and upload to Google Cloud Storage."
   ]
  },
  {
   "cell_type": "markdown",
   "metadata": {},
   "source": [
    "## Setup\n",
    "- Set job parameters\n",
    "- Setup environment "
   ]
  },
  {
   "cell_type": "code",
   "execution_count": 1,
   "metadata": {},
   "outputs": [],
   "source": [
    "# Import libraries\n",
    "import requests\n",
    "import tempfile\n",
    "import datetime\n",
    "import yaml\n",
    "from google.cloud import storage"
   ]
  },
  {
   "cell_type": "code",
   "execution_count": 2,
   "metadata": {},
   "outputs": [],
   "source": [
    "# Set up Google Cloud Storage\n",
    "bucket_name = \"football-analytics-platform\"\n",
    "storage_client = storage.Client()\n",
    "bucket = storage_client.bucket(bucket_name)"
   ]
  },
  {
   "cell_type": "code",
   "execution_count": 10,
   "metadata": {},
   "outputs": [],
   "source": [
    "# Load config file\n",
    "config_blob_name = \"config/football_data_uk_test.yml\"\n",
    "config_blob = bucket.blob(config_blob_name)\n",
    "contents = config_blob.download_as_string()\n",
    "config = yaml.safe_load(contents)"
   ]
  },
  {
   "cell_type": "code",
   "execution_count": 11,
   "metadata": {},
   "outputs": [],
   "source": [
    "# Set up project parameters\n",
    "project_id = config['PROJECT_ID']\n",
    "destination_blob_dir = config['DESTINATION_BLOB_DIR']\n",
    "bucket_name = config['BUCKET_NAME']"
   ]
  },
  {
   "source": [
    "## Extract and Load"
   ],
   "cell_type": "markdown",
   "metadata": {}
  },
  {
   "cell_type": "code",
   "execution_count": 14,
   "metadata": {},
   "outputs": [],
   "source": [
    "# Iterate through each job in the config file\n",
    "for j in config['JOBS']:\n",
    "    # Set up job parameters\n",
    "    source_url = j[\"SOURCE_URL\"]\n",
    "    output_file_prefix = j[\"OUTPUT_FILE_PREFIX\"]\n",
    "    output_file_name = output_file_prefix+\"_\"+datetime.datetime.now().strftime(\"%Y%m%d%H%M%S\")+\".csv\"\n",
    "    temp_file_path = tempfile.gettempdir()+\"/\"+output_file_name\n",
    "    destination_blob_path = destination_blob_dir+\"/\"+output_file_name\n",
    "    # Set up Google Cloud Storage objects\n",
    "    bucket = storage_client.bucket(bucket_name)\n",
    "    blob = bucket.blob(destination_blob_path)\n",
    "    # Download CSV file to temporary location\n",
    "    r = requests.get(source_url)\n",
    "    if r.status_code!=200:\n",
    "        raise Exception(f\"GET request failed: {r.status_code}\")\n",
    "    open(temp_file_path, 'wb').write(r.content)\n",
    "    # Write temporary file to Google Cloud Storage\n",
    "    blob.upload_from_filename(temp_file_path)"
   ]
  }
 ]
}