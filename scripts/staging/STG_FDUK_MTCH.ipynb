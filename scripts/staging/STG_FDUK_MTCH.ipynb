{
 "metadata": {
  "language_info": {
   "codemirror_mode": {
    "name": "ipython",
    "version": 3
   },
   "file_extension": ".py",
   "mimetype": "text/x-python",
   "name": "python",
   "nbconvert_exporter": "python",
   "pygments_lexer": "ipython3",
   "version": "3.9.2-final"
  },
  "orig_nbformat": 2,
  "kernelspec": {
   "name": "Python 3.9.2 64-bit",
   "display_name": "Python 3.9.2 64-bit",
   "metadata": {
    "interpreter": {
     "hash": "31f2aee4e71d21fbe5cf8b01ff0e069b9275f58929596ceb00d14d90e3e16cd6"
    }
   }
  }
 },
 "nbformat": 4,
 "nbformat_minor": 2,
 "cells": [
  {
   "source": [
    "# STG_FDUK_MTCH\n",
    "Load raw match data from www.football-data.co.uk to staging tables in BigQuery"
   ],
   "cell_type": "markdown",
   "metadata": {}
  },
  {
   "source": [
    "## Setup\n",
    "Set up BigQuery client object"
   ],
   "cell_type": "markdown",
   "metadata": {}
  },
  {
   "cell_type": "code",
   "execution_count": 10,
   "metadata": {},
   "outputs": [],
   "source": [
    "# Import libraries\n",
    "from google.cloud import bigquery\n",
    "\n",
    "# Construct a BigQuery client object.\n",
    "project=\"football-analytics-platform\"\n",
    "client = bigquery.Client(project=project)"
   ]
  },
  {
   "source": [
    "## Extract Load\n",
    "Load data from single raw data file into staging table. Auto-detect schema."
   ],
   "cell_type": "markdown",
   "metadata": {}
  },
  {
   "cell_type": "code",
   "execution_count": 15,
   "metadata": {},
   "outputs": [
    {
     "output_type": "stream",
     "name": "stdout",
     "text": [
      "Loaded 298 rows.\n"
     ]
    }
   ],
   "source": [
    "uri = \"gs://football-analytics-platform/landing/football-data-uk/2122_E0.csv\"\n",
    "table_id = \"football-analytics-platform.sandpit.stg_fduk_mtch\"\n",
    "job_config = bigquery.LoadJobConfig(\n",
    "    source_format=bigquery.SourceFormat.CSV,\n",
    "    autodetect=True\n",
    ")\n",
    "load_job = client.load_table_from_uri(\n",
    "    uri, table_id, job_config=job_config\n",
    ")  # Make an API request.\n",
    "\n",
    "load_job.result()  # Waits for the job to complete.\n",
    "\n",
    "destination_table = client.get_table(table_id)  # Make an API request.\n",
    "print(\"Loaded {} rows.\".format(destination_table.num_rows))"
   ]
  },
  {
   "cell_type": "code",
   "execution_count": 17,
   "metadata": {},
   "outputs": [
    {
     "output_type": "stream",
     "name": "stdout",
     "text": [
      "The query data:\n",
      "Row(('E0', datetime.date(2021, 10, 17), '14:00', 'Everton', 'West Ham', 0, 1, 'A', 0, 0, 'D', 'S Attwell', 15, 16, 2, 4, 3, 3, 7, 9, 0, 2, 0, 0, 2.5, 3.4, 2.8, 2.45, 3.5, 2.75, 2.5, 3.3, 2.85, 2.57, 3.37, 2.98, 2.5, 3.2, 2.9, 2.45, 3.3, 2.8, 2.64, 3.58, 3.02, 2.52, 3.35, 2.89, 1.9, 1.9, 1.95, 1.95, 1.98, 2.11, 1.89, 1.96, 0.0, 1.82, 2.11, 1.83, 2.12, 1.86, 2.13, 1.81, 2.09, 2.8, 3.2, 2.6, 2.45, 3.5, 2.75, 2.85, 3.25, 2.55, 2.91, 3.36, 2.63, 2.75, 3.1, 2.7, 2.88, 3.3, 2.6, 2.95, 3.52, 2.8, 2.84, 3.27, 2.61, 2.0, 1.8, 2.03, 1.88, 2.08, 1.93, 1.98, 1.86, 0.0, 2.06, 1.87, 2.07, 1.86, 2.07, 1.88, 2.03, 1.85), {'Div': 0, 'Date': 1, 'Time': 2, 'HomeTeam': 3, 'AwayTeam': 4, 'FTHG': 5, 'FTAG': 6, 'FTR': 7, 'HTHG': 8, 'HTAG': 9, 'HTR': 10, 'Referee': 11, 'HS': 12, 'AS': 13, 'HST': 14, 'AST': 15, 'HF': 16, 'AF': 17, 'HC': 18, 'AC': 19, 'HY': 20, 'AY': 21, 'HR': 22, 'AR': 23, 'B365H': 24, 'B365D': 25, 'B365A': 26, 'BWH': 27, 'BWD': 28, 'BWA': 29, 'IWH': 30, 'IWD': 31, 'IWA': 32, 'PSH': 33, 'PSD': 34, 'PSA': 35, 'WHH': 36, 'WHD': 37, 'WHA': 38, 'VCH': 39, 'VCD': 40, 'VCA': 41, 'MaxH': 42, 'MaxD': 43, 'MaxA': 44, 'AvgH': 45, 'AvgD': 46, 'AvgA': 47, 'B365_2_5': 48, 'B365_2_5_49': 49, 'P_2_5': 50, 'P_2_5_51': 51, 'Max_2_5': 52, 'Max_2_5_53': 53, 'Avg_2_5': 54, 'Avg_2_5_55': 55, 'AHh': 56, 'B365AHH': 57, 'B365AHA': 58, 'PAHH': 59, 'PAHA': 60, 'MaxAHH': 61, 'MaxAHA': 62, 'AvgAHH': 63, 'AvgAHA': 64, 'B365CH': 65, 'B365CD': 66, 'B365CA': 67, 'BWCH': 68, 'BWCD': 69, 'BWCA': 70, 'IWCH': 71, 'IWCD': 72, 'IWCA': 73, 'PSCH': 74, 'PSCD': 75, 'PSCA': 76, 'WHCH': 77, 'WHCD': 78, 'WHCA': 79, 'VCCH': 80, 'VCCD': 81, 'VCCA': 82, 'MaxCH': 83, 'MaxCD': 84, 'MaxCA': 85, 'AvgCH': 86, 'AvgCD': 87, 'AvgCA': 88, 'B365C_2_5': 89, 'B365C_2_5_90': 90, 'PC_2_5': 91, 'PC_2_5_92': 92, 'MaxC_2_5': 93, 'MaxC_2_5_94': 94, 'AvgC_2_5': 95, 'AvgC_2_5_96': 96, 'AHCh': 97, 'B365CAHH': 98, 'B365CAHA': 99, 'PCAHH': 100, 'PCAHA': 101, 'MaxCAHH': 102, 'MaxCAHA': 103, 'AvgCAHH': 104, 'AvgCAHA': 105})\n",
      "Row(('E0', datetime.date(2021, 10, 23), '15:00', 'Leeds', 'Wolves', 1, 1, 'D', 0, 1, 'A', 'R Jones', 18, 8, 4, 4, 15, 14, 6, 3, 2, 3, 0, 0, 2.4, 3.4, 2.87, 2.1, 3.7, 3.2, 2.55, 3.35, 2.75, 2.67, 3.46, 2.79, 2.5, 3.25, 2.8, 2.45, 3.3, 2.75, 2.68, 3.52, 2.98, 2.57, 3.37, 2.79, 1.9, 1.9, 1.88, 2.03, 1.96, 2.03, 1.9, 1.95, 0.0, 1.89, 2.04, 1.92, 2.01, 1.92, 2.12, 1.86, 2.04, 2.37, 3.4, 3.0, 2.1, 3.7, 3.2, 2.4, 3.35, 3.0, 2.64, 3.44, 2.84, 2.4, 3.25, 3.0, 2.4, 3.4, 3.0, 2.64, 3.6, 3.15, 2.44, 3.4, 2.96, 1.9, 1.9, 1.93, 1.97, 1.99, 2.07, 1.91, 1.94, -0.25, 2.1, 1.83, 2.26, 1.72, 2.26, 1.88, 2.1, 1.8), {'Div': 0, 'Date': 1, 'Time': 2, 'HomeTeam': 3, 'AwayTeam': 4, 'FTHG': 5, 'FTAG': 6, 'FTR': 7, 'HTHG': 8, 'HTAG': 9, 'HTR': 10, 'Referee': 11, 'HS': 12, 'AS': 13, 'HST': 14, 'AST': 15, 'HF': 16, 'AF': 17, 'HC': 18, 'AC': 19, 'HY': 20, 'AY': 21, 'HR': 22, 'AR': 23, 'B365H': 24, 'B365D': 25, 'B365A': 26, 'BWH': 27, 'BWD': 28, 'BWA': 29, 'IWH': 30, 'IWD': 31, 'IWA': 32, 'PSH': 33, 'PSD': 34, 'PSA': 35, 'WHH': 36, 'WHD': 37, 'WHA': 38, 'VCH': 39, 'VCD': 40, 'VCA': 41, 'MaxH': 42, 'MaxD': 43, 'MaxA': 44, 'AvgH': 45, 'AvgD': 46, 'AvgA': 47, 'B365_2_5': 48, 'B365_2_5_49': 49, 'P_2_5': 50, 'P_2_5_51': 51, 'Max_2_5': 52, 'Max_2_5_53': 53, 'Avg_2_5': 54, 'Avg_2_5_55': 55, 'AHh': 56, 'B365AHH': 57, 'B365AHA': 58, 'PAHH': 59, 'PAHA': 60, 'MaxAHH': 61, 'MaxAHA': 62, 'AvgAHH': 63, 'AvgAHA': 64, 'B365CH': 65, 'B365CD': 66, 'B365CA': 67, 'BWCH': 68, 'BWCD': 69, 'BWCA': 70, 'IWCH': 71, 'IWCD': 72, 'IWCA': 73, 'PSCH': 74, 'PSCD': 75, 'PSCA': 76, 'WHCH': 77, 'WHCD': 78, 'WHCA': 79, 'VCCH': 80, 'VCCD': 81, 'VCCA': 82, 'MaxCH': 83, 'MaxCD': 84, 'MaxCA': 85, 'AvgCH': 86, 'AvgCD': 87, 'AvgCA': 88, 'B365C_2_5': 89, 'B365C_2_5_90': 90, 'PC_2_5': 91, 'PC_2_5_92': 92, 'MaxC_2_5': 93, 'MaxC_2_5_94': 94, 'AvgC_2_5': 95, 'AvgC_2_5_96': 96, 'AHCh': 97, 'B365CAHH': 98, 'B365CAHA': 99, 'PCAHH': 100, 'PCAHA': 101, 'MaxCAHH': 102, 'MaxCAHA': 103, 'AvgCAHH': 104, 'AvgCAHA': 105})\n",
      "Row(('E0', datetime.date(2022, 1, 23), '14:00', 'Leicester', 'Brighton', 1, 1, 'D', 0, 0, 'D', 'M Atkinson', 15, 14, 5, 5, 6, 8, 4, 5, 0, 1, 0, 0, 2.5, 3.25, 2.9, 2.5, 3.4, 2.75, 2.55, 3.35, 2.8, 2.66, 3.36, 2.78, 2.5, 3.25, 2.8, 2.5, 3.25, 2.75, 2.68, 3.55, 2.9, 2.55, 3.37, 2.8, 1.98, 1.92, 1.96, 1.91, 2.01, 1.97, 1.95, 1.88, 0.0, 1.91, 2.02, 1.9, 1.99, 1.93, 2.09, 1.85, 2.02, 2.5, 3.4, 2.8, 2.55, 3.3, 2.7, 2.6, 3.45, 2.65, 2.71, 3.39, 2.79, 2.6, 3.4, 2.62, 2.63, 3.4, 2.75, 2.74, 3.6, 3.08, 2.6, 3.43, 2.76, 1.72, 2.1, 1.75, 2.19, 1.8, 2.26, 1.76, 2.1, 0.0, 1.92, 2.01, 1.93, 1.99, 1.94, 2.13, 1.87, 2.01), {'Div': 0, 'Date': 1, 'Time': 2, 'HomeTeam': 3, 'AwayTeam': 4, 'FTHG': 5, 'FTAG': 6, 'FTR': 7, 'HTHG': 8, 'HTAG': 9, 'HTR': 10, 'Referee': 11, 'HS': 12, 'AS': 13, 'HST': 14, 'AST': 15, 'HF': 16, 'AF': 17, 'HC': 18, 'AC': 19, 'HY': 20, 'AY': 21, 'HR': 22, 'AR': 23, 'B365H': 24, 'B365D': 25, 'B365A': 26, 'BWH': 27, 'BWD': 28, 'BWA': 29, 'IWH': 30, 'IWD': 31, 'IWA': 32, 'PSH': 33, 'PSD': 34, 'PSA': 35, 'WHH': 36, 'WHD': 37, 'WHA': 38, 'VCH': 39, 'VCD': 40, 'VCA': 41, 'MaxH': 42, 'MaxD': 43, 'MaxA': 44, 'AvgH': 45, 'AvgD': 46, 'AvgA': 47, 'B365_2_5': 48, 'B365_2_5_49': 49, 'P_2_5': 50, 'P_2_5_51': 51, 'Max_2_5': 52, 'Max_2_5_53': 53, 'Avg_2_5': 54, 'Avg_2_5_55': 55, 'AHh': 56, 'B365AHH': 57, 'B365AHA': 58, 'PAHH': 59, 'PAHA': 60, 'MaxAHH': 61, 'MaxAHA': 62, 'AvgAHH': 63, 'AvgAHA': 64, 'B365CH': 65, 'B365CD': 66, 'B365CA': 67, 'BWCH': 68, 'BWCD': 69, 'BWCA': 70, 'IWCH': 71, 'IWCD': 72, 'IWCA': 73, 'PSCH': 74, 'PSCD': 75, 'PSCA': 76, 'WHCH': 77, 'WHCD': 78, 'WHCA': 79, 'VCCH': 80, 'VCCD': 81, 'VCCA': 82, 'MaxCH': 83, 'MaxCD': 84, 'MaxCA': 85, 'AvgCH': 86, 'AvgCD': 87, 'AvgCA': 88, 'B365C_2_5': 89, 'B365C_2_5_90': 90, 'PC_2_5': 91, 'PC_2_5_92': 92, 'MaxC_2_5': 93, 'MaxC_2_5_94': 94, 'AvgC_2_5': 95, 'AvgC_2_5_96': 96, 'AHCh': 97, 'B365CAHH': 98, 'B365CAHA': 99, 'PCAHH': 100, 'PCAHA': 101, 'MaxCAHH': 102, 'MaxCAHA': 103, 'AvgCAHH': 104, 'AvgCAHA': 105})\n",
      "Row(('E0', datetime.date(2022, 2, 8), '19:45', 'Newcastle', 'Everton', 3, 1, 'H', 1, 1, 'D', 'A Taylor', 20, 11, 9, 3, 13, 13, 6, 2, 2, 3, 0, 0, 2.5, 3.25, 2.87, 2.4, 3.4, 2.85, 2.5, 3.35, 2.85, 2.57, 3.42, 2.94, 2.5, 3.3, 2.8, 2.5, 3.4, 2.9, 2.66, 3.54, 3.0, 2.52, 3.38, 2.88, 1.91, 1.99, 1.91, 1.99, 1.95, 2.04, 1.89, 1.94, 0.0, 1.8, 2.1, 1.83, 2.1, 1.84, 2.12, 1.82, 2.07, 2.5, 3.3, 2.8, 2.4, 3.3, 2.87, 2.45, 3.25, 2.95, 2.59, 3.44, 2.87, 2.5, 3.3, 2.8, 2.5, 3.3, 3.0, 2.62, 3.65, 3.1, 2.53, 3.34, 2.92, 2.03, 1.87, 2.0, 1.9, 2.06, 1.93, 1.99, 1.85, 0.0, 1.83, 2.07, 1.86, 2.07, 1.87, 2.17, 1.8, 2.09), {'Div': 0, 'Date': 1, 'Time': 2, 'HomeTeam': 3, 'AwayTeam': 4, 'FTHG': 5, 'FTAG': 6, 'FTR': 7, 'HTHG': 8, 'HTAG': 9, 'HTR': 10, 'Referee': 11, 'HS': 12, 'AS': 13, 'HST': 14, 'AST': 15, 'HF': 16, 'AF': 17, 'HC': 18, 'AC': 19, 'HY': 20, 'AY': 21, 'HR': 22, 'AR': 23, 'B365H': 24, 'B365D': 25, 'B365A': 26, 'BWH': 27, 'BWD': 28, 'BWA': 29, 'IWH': 30, 'IWD': 31, 'IWA': 32, 'PSH': 33, 'PSD': 34, 'PSA': 35, 'WHH': 36, 'WHD': 37, 'WHA': 38, 'VCH': 39, 'VCD': 40, 'VCA': 41, 'MaxH': 42, 'MaxD': 43, 'MaxA': 44, 'AvgH': 45, 'AvgD': 46, 'AvgA': 47, 'B365_2_5': 48, 'B365_2_5_49': 49, 'P_2_5': 50, 'P_2_5_51': 51, 'Max_2_5': 52, 'Max_2_5_53': 53, 'Avg_2_5': 54, 'Avg_2_5_55': 55, 'AHh': 56, 'B365AHH': 57, 'B365AHA': 58, 'PAHH': 59, 'PAHA': 60, 'MaxAHH': 61, 'MaxAHA': 62, 'AvgAHH': 63, 'AvgAHA': 64, 'B365CH': 65, 'B365CD': 66, 'B365CA': 67, 'BWCH': 68, 'BWCD': 69, 'BWCA': 70, 'IWCH': 71, 'IWCD': 72, 'IWCA': 73, 'PSCH': 74, 'PSCD': 75, 'PSCA': 76, 'WHCH': 77, 'WHCD': 78, 'WHCA': 79, 'VCCH': 80, 'VCCD': 81, 'VCCA': 82, 'MaxCH': 83, 'MaxCD': 84, 'MaxCA': 85, 'AvgCH': 86, 'AvgCD': 87, 'AvgCA': 88, 'B365C_2_5': 89, 'B365C_2_5_90': 90, 'PC_2_5': 91, 'PC_2_5_92': 92, 'MaxC_2_5': 93, 'MaxC_2_5_94': 94, 'AvgC_2_5': 95, 'AvgC_2_5_96': 96, 'AHCh': 97, 'B365CAHH': 98, 'B365CAHA': 99, 'PCAHH': 100, 'PCAHA': 101, 'MaxCAHH': 102, 'MaxCAHA': 103, 'AvgCAHH': 104, 'AvgCAHA': 105})\n",
      "Row(('E0', datetime.date(2022, 2, 26), '15:00', 'Brentford', 'Newcastle', 0, 2, 'A', 0, 2, 'A', 'M Dean', 6, 26, 1, 11, 9, 7, 6, 6, 3, 1, 1, 0, 2.5, 3.2, 3.0, 2.45, 3.2, 2.9, 2.5, 3.1, 3.0, 2.55, 3.2, 3.15, 2.5, 3.1, 3.0, 2.45, 3.0, 3.0, 2.6, 3.35, 3.16, 2.52, 3.17, 3.04, 2.3, 1.61, 2.38, 1.65, 2.38, 1.75, 2.28, 1.65, 0.0, 1.78, 2.13, 1.76, 2.19, 1.82, 2.19, 1.77, 2.13, 2.25, 3.1, 3.5, 2.35, 3.1, 3.2, 2.45, 3.05, 3.2, 2.32, 3.17, 3.6, 2.3, 3.0, 3.4, 2.45, 3.1, 3.25, 2.57, 3.2, 3.6, 2.38, 3.11, 3.38, 2.37, 1.57, 2.5, 1.58, 2.55, 1.66, 2.42, 1.57, -0.25, 1.97, 1.93, 1.96, 1.95, 2.16, 2.0, 2.01, 1.87), {'Div': 0, 'Date': 1, 'Time': 2, 'HomeTeam': 3, 'AwayTeam': 4, 'FTHG': 5, 'FTAG': 6, 'FTR': 7, 'HTHG': 8, 'HTAG': 9, 'HTR': 10, 'Referee': 11, 'HS': 12, 'AS': 13, 'HST': 14, 'AST': 15, 'HF': 16, 'AF': 17, 'HC': 18, 'AC': 19, 'HY': 20, 'AY': 21, 'HR': 22, 'AR': 23, 'B365H': 24, 'B365D': 25, 'B365A': 26, 'BWH': 27, 'BWD': 28, 'BWA': 29, 'IWH': 30, 'IWD': 31, 'IWA': 32, 'PSH': 33, 'PSD': 34, 'PSA': 35, 'WHH': 36, 'WHD': 37, 'WHA': 38, 'VCH': 39, 'VCD': 40, 'VCA': 41, 'MaxH': 42, 'MaxD': 43, 'MaxA': 44, 'AvgH': 45, 'AvgD': 46, 'AvgA': 47, 'B365_2_5': 48, 'B365_2_5_49': 49, 'P_2_5': 50, 'P_2_5_51': 51, 'Max_2_5': 52, 'Max_2_5_53': 53, 'Avg_2_5': 54, 'Avg_2_5_55': 55, 'AHh': 56, 'B365AHH': 57, 'B365AHA': 58, 'PAHH': 59, 'PAHA': 60, 'MaxAHH': 61, 'MaxAHA': 62, 'AvgAHH': 63, 'AvgAHA': 64, 'B365CH': 65, 'B365CD': 66, 'B365CA': 67, 'BWCH': 68, 'BWCD': 69, 'BWCA': 70, 'IWCH': 71, 'IWCD': 72, 'IWCA': 73, 'PSCH': 74, 'PSCD': 75, 'PSCA': 76, 'WHCH': 77, 'WHCD': 78, 'WHCA': 79, 'VCCH': 80, 'VCCD': 81, 'VCCA': 82, 'MaxCH': 83, 'MaxCD': 84, 'MaxCA': 85, 'AvgCH': 86, 'AvgCD': 87, 'AvgCA': 88, 'B365C_2_5': 89, 'B365C_2_5_90': 90, 'PC_2_5': 91, 'PC_2_5_92': 92, 'MaxC_2_5': 93, 'MaxC_2_5_94': 94, 'AvgC_2_5': 95, 'AvgC_2_5_96': 96, 'AHCh': 97, 'B365CAHH': 98, 'B365CAHA': 99, 'PCAHH': 100, 'PCAHA': 101, 'MaxCAHH': 102, 'MaxCAHA': 103, 'AvgCAHH': 104, 'AvgCAHA': 105})\n",
      "Row(('E0', datetime.date(2021, 9, 11), '15:00', 'Brentford', 'Brighton', 0, 1, 'A', 0, 0, 'D', 'G Scott', 7, 4, 1, 2, 9, 12, 1, 6, 3, 2, 0, 0, 2.8, 3.2, 2.62, 2.8, 3.2, 2.65, 2.85, 3.1, 2.65, 2.93, 3.19, 2.72, 2.75, 3.1, 2.7, 2.8, 3.0, 2.63, 2.99, 3.26, 2.78, 2.86, 3.14, 2.69, 2.5, 1.53, 2.52, 1.58, 2.55, 1.61, 2.46, 1.57, 0.0, 2.03, 1.9, 2.04, 1.89, 2.04, 1.94, 1.99, 1.89, 3.1, 3.0, 2.55, 2.9, 3.0, 2.7, 3.05, 2.95, 2.6, 3.14, 3.0, 2.7, 3.0, 3.0, 2.55, 3.0, 3.0, 2.7, 3.2, 3.24, 2.88, 3.01, 3.01, 2.67, 2.5, 1.53, 2.7, 1.52, 2.7, 1.58, 2.57, 1.52, 0.0, 2.13, 1.81, 2.12, 1.83, 2.13, 1.94, 2.06, 1.83), {'Div': 0, 'Date': 1, 'Time': 2, 'HomeTeam': 3, 'AwayTeam': 4, 'FTHG': 5, 'FTAG': 6, 'FTR': 7, 'HTHG': 8, 'HTAG': 9, 'HTR': 10, 'Referee': 11, 'HS': 12, 'AS': 13, 'HST': 14, 'AST': 15, 'HF': 16, 'AF': 17, 'HC': 18, 'AC': 19, 'HY': 20, 'AY': 21, 'HR': 22, 'AR': 23, 'B365H': 24, 'B365D': 25, 'B365A': 26, 'BWH': 27, 'BWD': 28, 'BWA': 29, 'IWH': 30, 'IWD': 31, 'IWA': 32, 'PSH': 33, 'PSD': 34, 'PSA': 35, 'WHH': 36, 'WHD': 37, 'WHA': 38, 'VCH': 39, 'VCD': 40, 'VCA': 41, 'MaxH': 42, 'MaxD': 43, 'MaxA': 44, 'AvgH': 45, 'AvgD': 46, 'AvgA': 47, 'B365_2_5': 48, 'B365_2_5_49': 49, 'P_2_5': 50, 'P_2_5_51': 51, 'Max_2_5': 52, 'Max_2_5_53': 53, 'Avg_2_5': 54, 'Avg_2_5_55': 55, 'AHh': 56, 'B365AHH': 57, 'B365AHA': 58, 'PAHH': 59, 'PAHA': 60, 'MaxAHH': 61, 'MaxAHA': 62, 'AvgAHH': 63, 'AvgAHA': 64, 'B365CH': 65, 'B365CD': 66, 'B365CA': 67, 'BWCH': 68, 'BWCD': 69, 'BWCA': 70, 'IWCH': 71, 'IWCD': 72, 'IWCA': 73, 'PSCH': 74, 'PSCD': 75, 'PSCA': 76, 'WHCH': 77, 'WHCD': 78, 'WHCA': 79, 'VCCH': 80, 'VCCD': 81, 'VCCA': 82, 'MaxCH': 83, 'MaxCD': 84, 'MaxCA': 85, 'AvgCH': 86, 'AvgCD': 87, 'AvgCA': 88, 'B365C_2_5': 89, 'B365C_2_5_90': 90, 'PC_2_5': 91, 'PC_2_5_92': 92, 'MaxC_2_5': 93, 'MaxC_2_5_94': 94, 'AvgC_2_5': 95, 'AvgC_2_5_96': 96, 'AHCh': 97, 'B365CAHH': 98, 'B365CAHA': 99, 'PCAHH': 100, 'PCAHA': 101, 'MaxCAHH': 102, 'MaxCAHA': 103, 'AvgCAHH': 104, 'AvgCAHA': 105})\n",
      "Row(('E0', datetime.date(2022, 3, 10), '19:45', 'Leeds', 'Aston Villa', 0, 3, 'A', 0, 1, 'A', 'S Hooper', 4, 15, 1, 9, 17, 11, 3, 5, 5, 3, 0, 0, 2.7, 3.5, 2.5, 2.7, 3.6, 2.45, 2.7, 3.55, 2.55, 2.75, 3.64, 2.61, 2.75, 3.5, 2.45, 2.63, 3.5, 2.5, 2.86, 3.7, 2.64, 2.72, 3.59, 2.54, 1.72, 2.1, 1.7, 2.27, 1.75, 2.27, 1.69, 2.19, 0.0, 2.03, 1.87, 2.01, 1.91, 2.07, 1.91, 2.0, 1.87, 2.8, 3.5, 2.4, 2.7, 3.5, 2.45, 2.8, 3.5, 2.45, 2.86, 3.63, 2.51, 2.8, 3.4, 2.45, 2.8, 3.6, 2.45, 3.13, 3.65, 2.56, 2.85, 3.58, 2.46, 1.66, 2.2, 1.71, 2.25, 1.73, 2.39, 1.68, 2.21, 0.25, 1.73, 2.08, 1.78, 2.17, 1.87, 2.17, 1.77, 2.12), {'Div': 0, 'Date': 1, 'Time': 2, 'HomeTeam': 3, 'AwayTeam': 4, 'FTHG': 5, 'FTAG': 6, 'FTR': 7, 'HTHG': 8, 'HTAG': 9, 'HTR': 10, 'Referee': 11, 'HS': 12, 'AS': 13, 'HST': 14, 'AST': 15, 'HF': 16, 'AF': 17, 'HC': 18, 'AC': 19, 'HY': 20, 'AY': 21, 'HR': 22, 'AR': 23, 'B365H': 24, 'B365D': 25, 'B365A': 26, 'BWH': 27, 'BWD': 28, 'BWA': 29, 'IWH': 30, 'IWD': 31, 'IWA': 32, 'PSH': 33, 'PSD': 34, 'PSA': 35, 'WHH': 36, 'WHD': 37, 'WHA': 38, 'VCH': 39, 'VCD': 40, 'VCA': 41, 'MaxH': 42, 'MaxD': 43, 'MaxA': 44, 'AvgH': 45, 'AvgD': 46, 'AvgA': 47, 'B365_2_5': 48, 'B365_2_5_49': 49, 'P_2_5': 50, 'P_2_5_51': 51, 'Max_2_5': 52, 'Max_2_5_53': 53, 'Avg_2_5': 54, 'Avg_2_5_55': 55, 'AHh': 56, 'B365AHH': 57, 'B365AHA': 58, 'PAHH': 59, 'PAHA': 60, 'MaxAHH': 61, 'MaxAHA': 62, 'AvgAHH': 63, 'AvgAHA': 64, 'B365CH': 65, 'B365CD': 66, 'B365CA': 67, 'BWCH': 68, 'BWCD': 69, 'BWCA': 70, 'IWCH': 71, 'IWCD': 72, 'IWCA': 73, 'PSCH': 74, 'PSCD': 75, 'PSCA': 76, 'WHCH': 77, 'WHCD': 78, 'WHCA': 79, 'VCCH': 80, 'VCCD': 81, 'VCCA': 82, 'MaxCH': 83, 'MaxCD': 84, 'MaxCA': 85, 'AvgCH': 86, 'AvgCD': 87, 'AvgCA': 88, 'B365C_2_5': 89, 'B365C_2_5_90': 90, 'PC_2_5': 91, 'PC_2_5_92': 92, 'MaxC_2_5': 93, 'MaxC_2_5_94': 94, 'AvgC_2_5': 95, 'AvgC_2_5_96': 96, 'AHCh': 97, 'B365CAHH': 98, 'B365CAHA': 99, 'PCAHH': 100, 'PCAHA': 101, 'MaxCAHH': 102, 'MaxCAHA': 103, 'AvgCAHH': 104, 'AvgCAHA': 105})\n",
      "Row(('E0', datetime.date(2022, 1, 22), '15:00', 'Brentford', 'Wolves', 1, 2, 'A', 0, 0, 'D', 'P Bankes', 11, 7, 1, 2, 6, 7, 6, 3, 2, 3, 0, 0, 3.2, 2.8, 2.6, 3.0, 3.0, 2.55, 3.05, 3.05, 2.55, 3.15, 3.11, 2.54, 3.0, 3.0, 2.55, 3.0, 3.0, 2.5, 3.21, 3.22, 2.63, 3.09, 3.05, 2.54, 2.5, 1.53, 2.53, 1.56, 2.66, 1.6, 2.51, 1.54, 0.0, 2.16, 1.78, 2.17, 1.75, 2.22, 1.8, 2.14, 1.76, 2.37, 3.1, 3.25, 2.3, 3.1, 3.3, 2.5, 2.95, 3.2, 2.53, 3.07, 3.33, 2.38, 3.2, 3.1, 2.5, 3.0, 3.3, 2.7, 3.43, 3.4, 2.48, 3.04, 3.25, 2.62, 1.5, 2.71, 1.58, 2.74, 1.59, 2.55, 1.53, -0.25, 2.09, 1.84, 2.13, 1.82, 2.28, 1.88, 2.11, 1.79), {'Div': 0, 'Date': 1, 'Time': 2, 'HomeTeam': 3, 'AwayTeam': 4, 'FTHG': 5, 'FTAG': 6, 'FTR': 7, 'HTHG': 8, 'HTAG': 9, 'HTR': 10, 'Referee': 11, 'HS': 12, 'AS': 13, 'HST': 14, 'AST': 15, 'HF': 16, 'AF': 17, 'HC': 18, 'AC': 19, 'HY': 20, 'AY': 21, 'HR': 22, 'AR': 23, 'B365H': 24, 'B365D': 25, 'B365A': 26, 'BWH': 27, 'BWD': 28, 'BWA': 29, 'IWH': 30, 'IWD': 31, 'IWA': 32, 'PSH': 33, 'PSD': 34, 'PSA': 35, 'WHH': 36, 'WHD': 37, 'WHA': 38, 'VCH': 39, 'VCD': 40, 'VCA': 41, 'MaxH': 42, 'MaxD': 43, 'MaxA': 44, 'AvgH': 45, 'AvgD': 46, 'AvgA': 47, 'B365_2_5': 48, 'B365_2_5_49': 49, 'P_2_5': 50, 'P_2_5_51': 51, 'Max_2_5': 52, 'Max_2_5_53': 53, 'Avg_2_5': 54, 'Avg_2_5_55': 55, 'AHh': 56, 'B365AHH': 57, 'B365AHA': 58, 'PAHH': 59, 'PAHA': 60, 'MaxAHH': 61, 'MaxAHA': 62, 'AvgAHH': 63, 'AvgAHA': 64, 'B365CH': 65, 'B365CD': 66, 'B365CA': 67, 'BWCH': 68, 'BWCD': 69, 'BWCA': 70, 'IWCH': 71, 'IWCD': 72, 'IWCA': 73, 'PSCH': 74, 'PSCD': 75, 'PSCA': 76, 'WHCH': 77, 'WHCD': 78, 'WHCA': 79, 'VCCH': 80, 'VCCD': 81, 'VCCA': 82, 'MaxCH': 83, 'MaxCD': 84, 'MaxCA': 85, 'AvgCH': 86, 'AvgCD': 87, 'AvgCA': 88, 'B365C_2_5': 89, 'B365C_2_5_90': 90, 'PC_2_5': 91, 'PC_2_5_92': 92, 'MaxC_2_5': 93, 'MaxC_2_5_94': 94, 'AvgC_2_5': 95, 'AvgC_2_5_96': 96, 'AHCh': 97, 'B365CAHH': 98, 'B365CAHA': 99, 'PCAHH': 100, 'PCAHA': 101, 'MaxCAHH': 102, 'MaxCAHA': 103, 'AvgCAHH': 104, 'AvgCAHA': 105})\n",
      "Row(('E0', datetime.date(2022, 4, 2), '15:00', 'Wolves', 'Aston Villa', 2, 1, 'H', 2, 0, 'H', 'D England', 11, 15, 5, 5, 15, 8, 4, 9, 4, 3, 0, 0, 3.0, 3.1, 2.55, 2.9, 3.0, 2.6, 3.0, 3.05, 2.55, 3.11, 3.13, 2.63, 3.0, 3.0, 2.55, 3.0, 3.0, 2.5, 3.13, 3.3, 2.71, 3.01, 3.1, 2.59, 2.37, 1.57, 2.48, 1.6, 2.48, 1.66, 2.38, 1.6, 0.0, 2.11, 1.79, 2.14, 1.81, 2.14, 1.82, 2.1, 1.79, 3.0, 3.1, 2.5, 2.9, 3.0, 2.6, 3.0, 3.0, 2.6, 3.16, 3.09, 2.62, 3.0, 3.0, 2.55, 3.0, 3.1, 2.6, 3.16, 3.18, 2.64, 3.07, 3.07, 2.59, 2.5, 1.53, 2.5, 1.59, 2.51, 1.64, 2.43, 1.57, 0.25, 1.75, 2.05, 1.76, 2.19, 1.81, 2.2, 1.75, 2.15), {'Div': 0, 'Date': 1, 'Time': 2, 'HomeTeam': 3, 'AwayTeam': 4, 'FTHG': 5, 'FTAG': 6, 'FTR': 7, 'HTHG': 8, 'HTAG': 9, 'HTR': 10, 'Referee': 11, 'HS': 12, 'AS': 13, 'HST': 14, 'AST': 15, 'HF': 16, 'AF': 17, 'HC': 18, 'AC': 19, 'HY': 20, 'AY': 21, 'HR': 22, 'AR': 23, 'B365H': 24, 'B365D': 25, 'B365A': 26, 'BWH': 27, 'BWD': 28, 'BWA': 29, 'IWH': 30, 'IWD': 31, 'IWA': 32, 'PSH': 33, 'PSD': 34, 'PSA': 35, 'WHH': 36, 'WHD': 37, 'WHA': 38, 'VCH': 39, 'VCD': 40, 'VCA': 41, 'MaxH': 42, 'MaxD': 43, 'MaxA': 44, 'AvgH': 45, 'AvgD': 46, 'AvgA': 47, 'B365_2_5': 48, 'B365_2_5_49': 49, 'P_2_5': 50, 'P_2_5_51': 51, 'Max_2_5': 52, 'Max_2_5_53': 53, 'Avg_2_5': 54, 'Avg_2_5_55': 55, 'AHh': 56, 'B365AHH': 57, 'B365AHA': 58, 'PAHH': 59, 'PAHA': 60, 'MaxAHH': 61, 'MaxAHA': 62, 'AvgAHH': 63, 'AvgAHA': 64, 'B365CH': 65, 'B365CD': 66, 'B365CA': 67, 'BWCH': 68, 'BWCD': 69, 'BWCA': 70, 'IWCH': 71, 'IWCD': 72, 'IWCA': 73, 'PSCH': 74, 'PSCD': 75, 'PSCA': 76, 'WHCH': 77, 'WHCD': 78, 'WHCA': 79, 'VCCH': 80, 'VCCD': 81, 'VCCA': 82, 'MaxCH': 83, 'MaxCD': 84, 'MaxCA': 85, 'AvgCH': 86, 'AvgCD': 87, 'AvgCA': 88, 'B365C_2_5': 89, 'B365C_2_5_90': 90, 'PC_2_5': 91, 'PC_2_5_92': 92, 'MaxC_2_5': 93, 'MaxC_2_5_94': 94, 'AvgC_2_5': 95, 'AvgC_2_5_96': 96, 'AHCh': 97, 'B365CAHH': 98, 'B365CAHA': 99, 'PCAHH': 100, 'PCAHA': 101, 'MaxCAHH': 102, 'MaxCAHA': 103, 'AvgCAHH': 104, 'AvgCAHA': 105})\n",
      "Row(('E0', datetime.date(2021, 9, 11), '15:00', 'Southampton', 'West Ham', 0, 0, 'D', 0, 0, 'D', 'D Coote', 11, 13, 3, 3, 10, 12, 5, 4, 3, 1, 0, 1, 2.9, 3.5, 2.4, 2.95, 3.5, 2.35, 2.85, 3.45, 2.45, 2.93, 3.48, 2.54, 2.88, 3.25, 2.45, 2.75, 3.5, 2.4, 2.98, 3.56, 2.57, 2.89, 3.46, 2.47, 1.72, 2.1, 1.72, 2.23, 1.78, 2.24, 1.72, 2.15, 0.0, 2.1, 1.83, 2.11, 1.83, 2.17, 1.85, 2.09, 1.8, 3.0, 3.5, 2.3, 2.95, 3.5, 2.35, 3.0, 3.5, 2.3, 3.16, 3.55, 2.36, 3.0, 3.3, 2.35, 3.0, 3.6, 2.3, 3.3, 3.7, 2.46, 3.06, 3.53, 2.33, 1.66, 2.2, 1.71, 2.24, 1.73, 2.37, 1.69, 2.21, 0.25, 1.9, 2.03, 1.89, 2.03, 1.99, 2.13, 1.87, 2.02), {'Div': 0, 'Date': 1, 'Time': 2, 'HomeTeam': 3, 'AwayTeam': 4, 'FTHG': 5, 'FTAG': 6, 'FTR': 7, 'HTHG': 8, 'HTAG': 9, 'HTR': 10, 'Referee': 11, 'HS': 12, 'AS': 13, 'HST': 14, 'AST': 15, 'HF': 16, 'AF': 17, 'HC': 18, 'AC': 19, 'HY': 20, 'AY': 21, 'HR': 22, 'AR': 23, 'B365H': 24, 'B365D': 25, 'B365A': 26, 'BWH': 27, 'BWD': 28, 'BWA': 29, 'IWH': 30, 'IWD': 31, 'IWA': 32, 'PSH': 33, 'PSD': 34, 'PSA': 35, 'WHH': 36, 'WHD': 37, 'WHA': 38, 'VCH': 39, 'VCD': 40, 'VCA': 41, 'MaxH': 42, 'MaxD': 43, 'MaxA': 44, 'AvgH': 45, 'AvgD': 46, 'AvgA': 47, 'B365_2_5': 48, 'B365_2_5_49': 49, 'P_2_5': 50, 'P_2_5_51': 51, 'Max_2_5': 52, 'Max_2_5_53': 53, 'Avg_2_5': 54, 'Avg_2_5_55': 55, 'AHh': 56, 'B365AHH': 57, 'B365AHA': 58, 'PAHH': 59, 'PAHA': 60, 'MaxAHH': 61, 'MaxAHA': 62, 'AvgAHH': 63, 'AvgAHA': 64, 'B365CH': 65, 'B365CD': 66, 'B365CA': 67, 'BWCH': 68, 'BWCD': 69, 'BWCA': 70, 'IWCH': 71, 'IWCD': 72, 'IWCA': 73, 'PSCH': 74, 'PSCD': 75, 'PSCA': 76, 'WHCH': 77, 'WHCD': 78, 'WHCA': 79, 'VCCH': 80, 'VCCD': 81, 'VCCA': 82, 'MaxCH': 83, 'MaxCD': 84, 'MaxCA': 85, 'AvgCH': 86, 'AvgCD': 87, 'AvgCA': 88, 'B365C_2_5': 89, 'B365C_2_5_90': 90, 'PC_2_5': 91, 'PC_2_5_92': 92, 'MaxC_2_5': 93, 'MaxC_2_5_94': 94, 'AvgC_2_5': 95, 'AvgC_2_5_96': 96, 'AHCh': 97, 'B365CAHH': 98, 'B365CAHA': 99, 'PCAHH': 100, 'PCAHA': 101, 'MaxCAHH': 102, 'MaxCAHA': 103, 'AvgCAHH': 104, 'AvgCAHA': 105})\n"
     ]
    }
   ],
   "source": [
    "# Query the staging table\n",
    "query = \"\"\"\n",
    "select * from football-analytics-platform.sandpit.stg_fduk_mtch limit 10\n",
    "\"\"\"\n",
    "query_job = client.query(query)  # Make an API request.\n",
    "print(\"The query data:\")\n",
    "for row in query_job:\n",
    "    # Row values can be accessed by field name or index.\n",
    "    print(row)"
   ]
  },
  {
   "source": [],
   "cell_type": "markdown",
   "metadata": {}
  }
 ]
}