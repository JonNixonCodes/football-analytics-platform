{
 "nbformat": 4,
 "nbformat_minor": 2,
 "metadata": {
  "language_info": {
   "name": "python",
   "codemirror_mode": {
    "name": "ipython",
    "version": 3
   },
   "version": "3.9.2-final"
  },
  "orig_nbformat": 2,
  "file_extension": ".py",
  "mimetype": "text/x-python",
  "name": "python",
  "npconvert_exporter": "python",
  "pygments_lexer": "ipython3",
  "version": 3,
  "kernelspec": {
   "name": "python3",
   "display_name": "Python 3 (ipykernel)"
  }
 },
 "cells": [
  {
   "cell_type": "markdown",
   "metadata": {},
   "source": [
    "# Extract and Load Football-Data.co.uk\n",
    "Download CSV from www.football-data.co.uk and upload to Google Cloud Storage."
   ]
  },
  {
   "cell_type": "markdown",
   "metadata": {},
   "source": [
    "## Setup\n",
    "- Set job parameters\n",
    "- Setup environment "
   ]
  },
  {
   "cell_type": "code",
   "execution_count": 2,
   "metadata": {},
   "outputs": [],
   "source": [
    "# Import libraries\n",
    "import requests\n",
    "import tempfile\n",
    "import datetime\n",
    "from google.cloud import storage"
   ]
  },
  {
   "cell_type": "code",
   "execution_count": 4,
   "metadata": {},
   "outputs": [],
   "source": [
    "# Set up job parameters\n",
    "project_id = \"football-analytics-platform\"\n",
    "landing_dir = \"landing/football-data-uk\"\n",
    "source_url = \"https://www.football-data.co.uk/mmz4281/2122/E0.csv\"\n",
    "bucket_name = \"football-analytics-platform\"\n",
    "destination_blob_dir = \"landing/football-data-uk\"\n",
    "output_file_prefix = \"2122_E0\"\n",
    "output_file_name = output_file_prefix+\"_\"+datetime.datetime.now().strftime(\"%Y%m%d%H%M%S\")+\".csv\"\n",
    "temp_file_path = tempfile.gettempdir()+\"/\"+output_file_name\n",
    "destination_blob_path = destination_blob_dir+\"/\"+output_file_name"
   ]
  },
  {
   "cell_type": "code",
   "execution_count": 5,
   "metadata": {},
   "outputs": [],
   "source": [
    "# Set up Google Cloud Storage objects\n",
    "storage_client = storage.Client()\n",
    "bucket = storage_client.bucket(bucket_name)\n",
    "blob = bucket.blob(destination_blob_path)"
   ]
  },
  {
   "cell_type": "markdown",
   "metadata": {},
   "source": [
    "## Scrape Data"
   ]
  },
  {
   "cell_type": "code",
   "execution_count": 6,
   "metadata": {},
   "outputs": [
    {
     "output_type": "execute_result",
     "data": {
      "text/plain": [
       "138133"
      ]
     },
     "metadata": {},
     "execution_count": 6
    }
   ],
   "source": [
    "# Download CSV file to temporary location\n",
    "r = requests.get(source_url)\n",
    "if r.status_code!=200:\n",
    "    raise Exception(f\"GET request failed: {r.status_code}\")\n",
    "open(temp_file_path, 'wb').write(r.content)"
   ]
  },
  {
   "cell_type": "code",
   "execution_count": 7,
   "metadata": {},
   "outputs": [],
   "source": [
    "# Write temporary file to Google Cloud Storage\n",
    "blob.upload_from_filename(temp_file_path)"
   ]
  }
 ]
}